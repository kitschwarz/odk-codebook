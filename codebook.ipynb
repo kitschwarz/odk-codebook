{
 "cells": [
  {
   "cell_type": "markdown",
   "metadata": {},
   "source": [
    "#### Setting up environment"
   ]
  },
  {
   "cell_type": "code",
   "execution_count": 103,
   "metadata": {},
   "outputs": [],
   "source": [
    "# importing modules\n",
    "\n",
    "import pandas as pd\n",
    "import matplotlib.pyplot as plt\n",
    "import seaborn as sns\n",
    "import os\n",
    "import numpy as np\n",
    "import datetime\n",
    "import ipywidgets as widgets\n",
    "\n",
    "from docx import Document\n",
    "from docx.shared import Inches, Length, Pt, Cm\n",
    "from docx.enum.table import WD_ROW_HEIGHT_RULE\n",
    "from docx.text.run import Font, Run\n",
    "from docx.dml.color import ColorFormat\n",
    "from docx.enum.dml import MSO_THEME_COLOR"
   ]
  },
  {
   "cell_type": "code",
   "execution_count": 95,
   "metadata": {},
   "outputs": [],
   "source": [
    "# defining functions\n",
    "\n",
    "def divide_chunks(l, n): \n",
    "    for i in range(0, len(l), n):  \n",
    "        yield l[i:i + n]\n",
    "        \n",
    "def delete_paragraph(paragraph):\n",
    "    p = paragraph._element\n",
    "    p.getparent().remove(p)\n",
    "    p._p = p._element = None"
   ]
  },
  {
   "cell_type": "markdown",
   "metadata": {},
   "source": [
    "#### Importing"
   ]
  },
  {
   "cell_type": "code",
   "execution_count": 96,
   "metadata": {},
   "outputs": [],
   "source": [
    "# setting location, name, and codebook name for the XLS form\n",
    "\n",
    "location = r'C:\\Users\\kitsc\\Documents\\Pragati Abhiyan\\ragi_2019\\forms\\archive'\n",
    "file = r'\\t1_landnursery.xlsx'\n",
    "codebook_file = r'\\t1_landnursery.docx'"
   ]
  },
  {
   "cell_type": "code",
   "execution_count": 97,
   "metadata": {},
   "outputs": [],
   "source": [
    "# importing files\n",
    "survey = pd.read_excel(location + file, sheet_name=\"survey\")\n",
    "choices = pd.read_excel(location + file, sheet_name=\"choices\")\n",
    "settings = pd.read_excel(location + file, sheet_name=\"settings\")\n",
    "title = 'Codebook: ' + settings['form_title'][0]\n",
    "\n",
    "# removing Markdown text\n",
    "survey['label::English'] = survey['label::English'].str.replace(r\"\\<.*\\\"\\>\",\"\", 1)\n",
    "survey['label::English'] = survey['label::English'].str.replace(r'\\<\\/span\\>',\"\")\n",
    "# removing unnecessary lines\n",
    "questions = survey.loc[~survey['type'].isin(['end group', 'username', 'simserial', 'calculate'])]"
   ]
  },
  {
   "cell_type": "markdown",
   "metadata": {},
   "source": [
    "#### Creating document"
   ]
  },
  {
   "cell_type": "code",
   "execution_count": 98,
   "metadata": {},
   "outputs": [],
   "source": [
    "# generating document and settings\n",
    "\n",
    "document = Document()\n",
    "\n",
    "margin = 1\n",
    "for section in document.sections:\n",
    "    section.top_margin = Cm(margin)\n",
    "    section.bottom_margin = Cm(margin)\n",
    "    section.left_margin = Cm(margin)\n",
    "    section.right_margin = Cm(margin)\n",
    "    \n",
    "# adding preferred title\n",
    "document.add_heading(title, 0)\n",
    "\n",
    "# adding date and time\n",
    "document.add_paragraph().add_run('This file was automatically generated on ' + \n",
    "                       datetime.datetime.now().strftime(\"%d-%b-%Y (%H:%M)\")).italic = True\n",
    "\n",
    "style = document.styles['Normal']\n",
    "font = style.font\n",
    "font.name = 'Arial'\n",
    "font.size = Pt(9)"
   ]
  },
  {
   "cell_type": "markdown",
   "metadata": {},
   "source": [
    "#### Adding questionnaire items"
   ]
  },
  {
   "cell_type": "code",
   "execution_count": 99,
   "metadata": {},
   "outputs": [],
   "source": [
    "\n",
    "sc = gc = qc = 0 # numbering counters\n",
    "\n",
    "for i in questions.index:\n",
    "    \n",
    "    # settings\n",
    "    p = document.add_paragraph()\n",
    "    p.paragraph_format.space_before = Pt(12)\n",
    "    p.paragraph_format.space_after = Pt(2)\n",
    "    style = document.styles['Table Grid']\n",
    "    q = questions['type'][i]\n",
    "    q_type = questions['type'][i].split(' ', 1)[0]\n",
    "    q_text = questions['label::English'][i]\n",
    "    q_hint = questions['hint::English'][i]\n",
    "    q_name = questions['name'][i]\n",
    "    q_relevant = questions['relevant'][i]\n",
    "    q_constraint = questions['constraint_message::English'][i]\n",
    "    \n",
    "    # REPEAT HEADINGS\n",
    "    if q in ('begin repeat'):\n",
    "        p.add_run('Begin repeated questions.').italic=True\n",
    "        continue\n",
    "    elif q in ('end repeat'):\n",
    "        p.add_run('End repeated questions.').italic=True\n",
    "        continue\n",
    "    \n",
    "    elif str(q_text) == 'nan':\n",
    "        continue\n",
    "        \n",
    "    # GROUP HEADINGS\n",
    "    elif q in ('begin group'): \n",
    "\n",
    "        # section headings\n",
    "        if 's' in q_name and 'p' not in q_name:\n",
    "            sc += 1\n",
    "            gc = qc = 1 \n",
    "            run = p.add_run(str(sc) + \" \" + q_text)\n",
    "            run.font.size = Pt(20)\n",
    "            run.font.color.theme_color = MSO_THEME_COLOR.ACCENT_4\n",
    "            continue\n",
    "\n",
    "        # part headings\n",
    "        elif 'p' in q_name and 'g' not in q_name: \n",
    "            gc += 1\n",
    "            qc = 1\n",
    "            run = p.add_run(str(sc) + \".\" + str(gc) + \" \" + q_text)\n",
    "            run.font.size = Pt(16)\n",
    "            run.font.color.theme_color = MSO_THEME_COLOR.ACCENT_5\n",
    "            continue\n",
    "\n",
    "        # sub group headings\n",
    "        elif 'g' in q_name:\n",
    "            run = p.add_run(q_text)\n",
    "            run.font.size = Pt(13)\n",
    "            run.font.color.theme_color = MSO_THEME_COLOR.ACCENT_6\n",
    "            continue\n",
    "\n",
    "        else:\n",
    "            continue\n",
    "\n",
    "    # NOTES\n",
    "    elif q in ('note'):\n",
    "        p.add_run(q_text).bold = True\n",
    "        continue\n",
    "\n",
    "    # QUESTIONS\n",
    "    else:\n",
    "        qc += 1\n",
    "        \n",
    "        # add question number, variable name, variable label, hint\n",
    "        p.add_run(str(sc) + \".\" + str(gc) + \".\" + str(qc) + \" \").bold = True\n",
    "        p.add_run(q_name + \", \" + q_type + \": \").italic = True\n",
    "        p.add_run(q_text).bold = True\n",
    "        if str(q_hint) != 'nan':\n",
    "            p.add_run(\" Hint: \" + q_hint).italic = True\n",
    "            \n",
    "        # add constraint, relevance\n",
    "        if str(q_constraint) != 'nan':\n",
    "            p1 = document.add_paragraph()\n",
    "            p1.add_run('Constraint: ' + str(q_constraint)).font.size = Pt(6)\n",
    "            p1.paragraph_format.space_before = Pt(2)\n",
    "            p1.paragraph_format.space_after = Pt(2)\n",
    "        if str(q_relevant) != 'nan':\n",
    "            p2 = document.add_paragraph()\n",
    "            p2.add_run('Relevance: ' + str(q_relevant)).font.size = Pt(6)\n",
    "            p2.paragraph_format.space_before = Pt(2)\n",
    "            p2.paragraph_format.space_after = Pt(2)\n",
    "                        \n",
    "        # text, numerical and location questions\n",
    "        if q in ('text', 'geopoint', 'int', 'decimal', 'integer'):\n",
    "            continue\n",
    "\n",
    "        # select questions\n",
    "        if ('select_multiple' in q) or ('select_one' in q):\n",
    "\n",
    "            # set style and choice list header\n",
    "            t = document.add_table(rows=0, cols=6)\n",
    "            t.style = style\n",
    "\n",
    "            # build choice list\n",
    "            list_name = q.replace(\"select_one \", \"\").replace(\"select_multiple \", \"\")\n",
    "            choices_list = choices.loc[choices['list_name'].isin([list_name])]\n",
    "            choice_text = choices_list['name'].map(str) + \"  \" + choices_list['label::English'] \\\n",
    "                if choices_list['list_name'].any() not in ('villages', 'gps', 'regions') else choices_list['label::English']\n",
    "            x = list(divide_chunks(list(choice_text), 6))\n",
    "            for row in x: # get identical-sized lists\n",
    "                for i in range(1,6):\n",
    "                    if len(row) == i:\n",
    "                        row.append('')\n",
    "            for row in x: # add each list as a table row\n",
    "                row_cells = t.add_row().cells\n",
    "                for i, txt in enumerate(row):\n",
    "                    row_cells[i].text = txt \n",
    "            \n",
    "            # format choice list table\n",
    "            for row in t.rows:\n",
    "                for cell in row.cells:\n",
    "                    paragraphs = cell.paragraphs\n",
    "                    for paragraph in paragraphs:\n",
    "                        for run in paragraph.runs:\n",
    "                            run.font.size= Pt(6)\n",
    "\n",
    "# remove whitespace\n",
    "for paragraph in document.paragraphs:\n",
    "    if len(paragraph.text)==0:\n",
    "        delete_paragraph(paragraph)\n",
    "        \n",
    "document.save(location + codebook_file)"
   ]
  },
  {
   "cell_type": "code",
   "execution_count": 109,
   "metadata": {},
   "outputs": [
    {
     "name": "stdout",
     "output_type": "stream",
     "text": [
      "boo\n"
     ]
    },
    {
     "ename": "AttributeError",
     "evalue": "'function' object has no attribute 'display'",
     "output_type": "error",
     "traceback": [
      "\u001b[1;31m---------------------------------------------------------------------------\u001b[0m",
      "\u001b[1;31mAttributeError\u001b[0m                            Traceback (most recent call last)",
      "\u001b[1;32m<ipython-input-109-688e9deb0bdc>\u001b[0m in \u001b[0;36m<module>\u001b[1;34m\u001b[0m\n\u001b[0;32m     11\u001b[0m \u001b[0mdown_box\u001b[0m \u001b[1;33m=\u001b[0m \u001b[0mwidgets\u001b[0m\u001b[1;33m.\u001b[0m\u001b[0mHBox\u001b[0m\u001b[1;33m(\u001b[0m\u001b[1;33m[\u001b[0m\u001b[0mbutton\u001b[0m\u001b[1;33m,\u001b[0m \u001b[0mprogress\u001b[0m\u001b[1;33m,\u001b[0m \u001b[0mlabel2\u001b[0m\u001b[1;33m]\u001b[0m\u001b[1;33m)\u001b[0m\u001b[1;33m\u001b[0m\u001b[1;33m\u001b[0m\u001b[0m\n\u001b[0;32m     12\u001b[0m \u001b[0mui\u001b[0m \u001b[1;33m=\u001b[0m \u001b[0mwidgets\u001b[0m\u001b[1;33m.\u001b[0m\u001b[0mVBox\u001b[0m\u001b[1;33m(\u001b[0m\u001b[1;33m[\u001b[0m\u001b[0mtop_box\u001b[0m\u001b[1;33m,\u001b[0m \u001b[0mdown_box\u001b[0m\u001b[1;33m]\u001b[0m\u001b[1;33m)\u001b[0m\u001b[1;33m\u001b[0m\u001b[1;33m\u001b[0m\u001b[0m\n\u001b[1;32m---> 13\u001b[1;33m \u001b[0mdisplay\u001b[0m\u001b[1;33m.\u001b[0m\u001b[0mdisplay\u001b[0m\u001b[1;33m(\u001b[0m\u001b[0mui\u001b[0m\u001b[1;33m)\u001b[0m\u001b[1;33m\u001b[0m\u001b[1;33m\u001b[0m\u001b[0m\n\u001b[0m",
      "\u001b[1;31mAttributeError\u001b[0m: 'function' object has no attribute 'display'"
     ]
    }
   ],
   "source": [
    "# UI\n",
    "slider = widgets.IntSlider(min=10, max=100, value=10)\n",
    "label = widgets.Label(value='Select number of games')\n",
    "button = widgets.Button(description='Start Simulation', button_style='info', tooltip='Start Game')\n",
    "progress = widgets.IntProgress(description='Progress:')\n",
    "label2 = widgets.Label()\n",
    "# Interactions\n",
    "button.on_click(print('boo'))\n",
    "# UI Layout\n",
    "top_box = widgets.HBox([label, slider])\n",
    "down_box = widgets.HBox([button, progress, label2])\n",
    "ui = widgets.VBox([top_box, down_box])\n",
    "display.display(ui)"
   ]
  }
 ],
 "metadata": {
  "kernelspec": {
   "display_name": "Python 3",
   "language": "python",
   "name": "python3"
  },
  "language_info": {
   "codemirror_mode": {
    "name": "ipython",
    "version": 3
   },
   "file_extension": ".py",
   "mimetype": "text/x-python",
   "name": "python",
   "nbconvert_exporter": "python",
   "pygments_lexer": "ipython3",
   "version": "3.7.3"
  }
 },
 "nbformat": 4,
 "nbformat_minor": 2
}
